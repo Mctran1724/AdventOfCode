{
 "cells": [
  {
   "cell_type": "code",
   "execution_count": 10,
   "metadata": {},
   "outputs": [
    {
     "name": "stdout",
     "output_type": "stream",
     "text": [
      "Intel MKL WARNING: Support of Intel(R) Streaming SIMD Extensions 4.2 (Intel(R) SSE4.2) enabled only processors has been deprecated. Intel oneAPI Math Kernel Library 2025.0 will require Intel(R) Advanced Vector Extensions (Intel(R) AVX) instructions.\n",
      "Intel MKL WARNING: Support of Intel(R) Streaming SIMD Extensions 4.2 (Intel(R) SSE4.2) enabled only processors has been deprecated. Intel oneAPI Math Kernel Library 2025.0 will require Intel(R) Advanced Vector Extensions (Intel(R) AVX) instructions.\n"
     ]
    }
   ],
   "source": [
    "from utils import profiler, reader\n",
    "import re\n",
    "from typing import List"
   ]
  },
  {
   "cell_type": "code",
   "execution_count": 19,
   "metadata": {},
   "outputs": [
    {
     "data": {
      "text/plain": [
       "'SXSAMASASMSXMSMSMSSMMMMMMXAMXMMXMASMMMMAXXAAAMMMSSSSSMASXXAAXASMSXXMXSXSXSASMSMMSMSAMMMAMXAAMASXMMSXMXMMMXASAXMSAASAMXSAAMXSXMASAXMMXSMSMMAM\\n'"
      ]
     },
     "execution_count": 19,
     "metadata": {},
     "output_type": "execute_result"
    }
   ],
   "source": [
    "datafile = \"../data/day4_input.txt\"\n",
    "data = reader.read_from_file(datafile)\n"
   ]
  },
  {
   "cell_type": "markdown",
   "metadata": {},
   "source": [
    "First I want to do clean up the newline characters"
   ]
  },
  {
   "cell_type": "code",
   "execution_count": 26,
   "metadata": {},
   "outputs": [],
   "source": [
    "data = [x.rstrip() for x in data]"
   ]
  },
  {
   "cell_type": "code",
   "execution_count": 29,
   "metadata": {},
   "outputs": [
    {
     "name": "stdout",
     "output_type": "stream",
     "text": [
      "140 140\n"
     ]
    }
   ],
   "source": [
    "print(len(data), len(data[0]))"
   ]
  },
  {
   "cell_type": "markdown",
   "metadata": {},
   "source": [
    "Note that the wordsearch grid is a perfect square."
   ]
  },
  {
   "cell_type": "markdown",
   "metadata": {},
   "source": [
    "# Part 1\n",
    "\n",
    "### Overview \n",
    "\n",
    "Find all the word search results of XMAS\n",
    "\n",
    "### Approach\n",
    "\n",
    "We need to go point by point. We can't use a depth first search because that would find words going in different directions!\n",
    "We have to manually scroll through all 8 directions for the word \"XMAS\". "
   ]
  },
  {
   "cell_type": "code",
   "execution_count": 59,
   "metadata": {},
   "outputs": [
    {
     "name": "stdout",
     "output_type": "stream",
     "text": [
      "Calling part1: Memory used 319488 kB; Execution Time: 0.121974834240973 s\n"
     ]
    },
    {
     "data": {
      "text/plain": [
       "2401"
      ]
     },
     "execution_count": 59,
     "metadata": {},
     "output_type": "execute_result"
    }
   ],
   "source": [
    "@profiler.profile\n",
    "def part1(data: List[List[str]]) -> int:\n",
    "    n = len(data)\n",
    "    \n",
    "    num_xmas = 0\n",
    "\n",
    "    def scan_horizontal(x: int, y: int, length = 4) -> List[str]:\n",
    "        left_string = right_string = \"\"\n",
    "        \n",
    "        for i in range(length):\n",
    "            if y - i >= 0:\n",
    "                left_string += data[x][y-i]\n",
    "            if y + i < n:\n",
    "                right_string += data[x][y+i]\n",
    "        \n",
    "        return [left_string, right_string]\n",
    "        \n",
    "    def scan_vertical(x: int, y: int, length = 4) -> List[str]:\n",
    "        top_string = bottom_string = \"\"\n",
    "\n",
    "        for i in range(length):\n",
    "            if x - i >= 0:\n",
    "                top_string += data[x-i][y]\n",
    "            if x + i < n:\n",
    "                bottom_string += data[x+i][y]\n",
    "\n",
    "        return [top_string, bottom_string]\n",
    "    \n",
    "    def scan_diagonal(x: int, y: int, length = 4) -> List[str]:\n",
    "        #There are four directions to scan\n",
    "\n",
    "        top_left = top_right = bottom_left = bottom_right = \"\"\n",
    "\n",
    "        for i in range(length):\n",
    "            if x - i >= 0 and y - i >= 0: #Within bounds going up and left\n",
    "                top_left += data[x-i][y-i]\n",
    "            if x - i >= 0 and y + i < n: #Within bounds going up and right\n",
    "                top_right += data[x-i][y+i]\n",
    "            if x + i < n and y - i >= 0: #Within bounds going down and left\n",
    "                bottom_left += data[x+i][y-i]\n",
    "            if x + i < n and y + i < n: #Within bounds going down and right\n",
    "                bottom_right += data[x+i][y+i]\n",
    "        \n",
    "        return [top_left, top_right, bottom_left, bottom_right]\n",
    "            \n",
    "\n",
    "    for i in range(n):\n",
    "        for j in range(n):\n",
    "            words_starting_at_ij = scan_diagonal(i,j) + scan_horizontal(i,j) + scan_vertical(i,j)\n",
    "            for word in words_starting_at_ij:\n",
    "                if word == \"XMAS\":\n",
    "                    num_xmas += 1\n",
    "\n",
    "    return num_xmas\n",
    "\n",
    "part1(data)\n",
    "    "
   ]
  },
  {
   "cell_type": "markdown",
   "metadata": {},
   "source": [
    "# Part 2\n",
    "\n",
    "### Overview \n",
    "\n",
    "We want to find the letters \"MAS\" in the shape of an X like so:\n",
    "\n",
    "\"M\".\"S\"\n",
    "\n",
    ". \"A\" .\n",
    "\n",
    "\"M\".\"S\"\n",
    "\n",
    "### Approach\n",
    "\n",
    "We can scan through and search the diagonals of ONLY A's since A must be at the center of each instance. This will reduce the amount of checking we have to do. Then we look one to the top left, top right, bottom left, and bottom right to see if this forms a valid x-mas.\n",
    "We can check that the diagonals to form either MAS or MAS[::-1] = SAM for them to be valid. Both diagonals must be valid for this to count as an x-mas"
   ]
  },
  {
   "cell_type": "code",
   "execution_count": 68,
   "metadata": {},
   "outputs": [
    {
     "name": "stdout",
     "output_type": "stream",
     "text": [
      "Calling part2: Memory used 0 kB; Execution Time: 0.005340042058378458 s\n"
     ]
    },
    {
     "data": {
      "text/plain": [
       "1822"
      ]
     },
     "execution_count": 68,
     "metadata": {},
     "output_type": "execute_result"
    }
   ],
   "source": [
    "@profiler.profile\n",
    "def part2(data: List[str]) -> int:\n",
    "    num_x_mas = 0\n",
    "    n = len(data)\n",
    "    valid = ('SAM', 'MAS')\n",
    "    def scan_diagonals(x: int, y: int) -> bool:\n",
    "        diagonal_1 = data[x-1][y-1] + data[x][y] + data[x+1][y+1] #top left to bottom right\n",
    "        diagonal_2 = data[x-1][y+1] + data[x][y] + data[x+1][y-1] #top right to bottom left\n",
    "        return (diagonal_1 in valid) and (diagonal_2 in valid)\n",
    "            \n",
    "    for i in range(1, n - 1):\n",
    "        for j in range(1, n - 1):\n",
    "            if data[i][j] == 'A':\n",
    "                num_x_mas += scan_diagonals(i, j) #since this returns a boolean, we can use truthy/falsey values.\n",
    "\n",
    "    return num_x_mas\n",
    "\n",
    "part2(data)\n",
    "        \n"
   ]
  },
  {
   "cell_type": "code",
   "execution_count": null,
   "metadata": {},
   "outputs": [],
   "source": []
  }
 ],
 "metadata": {
  "kernelspec": {
   "display_name": "maplestory",
   "language": "python",
   "name": "python3"
  },
  "language_info": {
   "codemirror_mode": {
    "name": "ipython",
    "version": 3
   },
   "file_extension": ".py",
   "mimetype": "text/x-python",
   "name": "python",
   "nbconvert_exporter": "python",
   "pygments_lexer": "ipython3",
   "version": "3.11.5"
  }
 },
 "nbformat": 4,
 "nbformat_minor": 2
}
