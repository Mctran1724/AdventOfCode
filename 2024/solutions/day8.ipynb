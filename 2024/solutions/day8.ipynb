{
 "cells": [
  {
   "cell_type": "code",
   "execution_count": 34,
   "metadata": {},
   "outputs": [],
   "source": [
    "from utils import profiler, reader\n",
    "from typing import List, Dict, Tuple, Set\n",
    "from tqdm import tqdm\n",
    "from itertools import combinations\n",
    "from collections import defaultdict\n"
   ]
  },
  {
   "cell_type": "code",
   "execution_count": 4,
   "metadata": {},
   "outputs": [
    {
     "data": {
      "text/plain": [
       "['a', 'b', 'c', 'd']"
      ]
     },
     "execution_count": 4,
     "metadata": {},
     "output_type": "execute_result"
    }
   ],
   "source": []
  },
  {
   "cell_type": "code",
   "execution_count": 6,
   "metadata": {},
   "outputs": [
    {
     "data": {
      "text/plain": [
       "['...............3................d.................',\n",
       " '.........................s..7......i.....e........',\n",
       " '................C.......................e.........',\n",
       " '...............Z.......m....................e.....',\n",
       " '....................gC.....q......................',\n",
       " '...............Q....s..........................A..',\n",
       " '................................s........A........',\n",
       " '...........n.....3.C..F......w..m...d.............',\n",
       " '..E...............3.....m......d.i................',\n",
       " '............f.3.......C....d........A.............',\n",
       " '.........Z...........................n..A.........',\n",
       " '....Q......p..............g.i.....................',\n",
       " '.r......n...Q....p............S.7...........O.....',\n",
       " '..........r......K....p.....M..........7....G.....',\n",
       " '....................Fs...................G........',\n",
       " '..z.........D..........G.g........................',\n",
       " 'rR.............F................M...............G.',\n",
       " '.........I..c.nr...............M................O.',\n",
       " '...I..............................................',\n",
       " '...................f......I.......................',\n",
       " 'z.I...............f..K..........0................7',\n",
       " 'k...................K......u.........O............',\n",
       " '.........Q...z.................ga......0.......o..',\n",
       " '....E.5..F..................u..b.P......a.1.......',\n",
       " '..........k9..................K.........H......1..',\n",
       " '.E.........h..........................0......a...H',\n",
       " '..........9...h..e........i......M....1...........',\n",
       " '.c.............z.......................j.........T',\n",
       " 'c..D......................Pb.................2....',\n",
       " '....................w.y......W......j.........T.2.',\n",
       " '......ph...N..................y.......W.t.2.......',\n",
       " '............9.................................o..1',\n",
       " '.................Vq.......u....Pb.................',\n",
       " '.......6R.........................................',\n",
       " '........5............w...a.W.............H.j......',\n",
       " '......Z.......Y..........V............H..2........',\n",
       " '..........D.................v..y.........t...T..o.',\n",
       " '.......5...................t......................',\n",
       " '........8k...l...............v.........S....T...4.',\n",
       " '......6....U......PR........b.B....y..............',\n",
       " '..........6.V...U........................L........',\n",
       " '.......8.........N....4.Vq.v..t......oJ.....L.....',\n",
       " 'N...........R.................w.JY................',\n",
       " '............N.....................................',\n",
       " '.....5Y.....................................j.....',\n",
       " '.98........Y.....l.............B...........S...L..',\n",
       " '.8...............U...............4................',\n",
       " '..................W.........U4....................',\n",
       " '...E........l..........B......................L..u',\n",
       " '.....D............l....J..q.....................S.']"
      ]
     },
     "execution_count": 6,
     "metadata": {},
     "output_type": "execute_result"
    }
   ],
   "source": [
    "datafile = \"../data/day8_input.txt\"\n",
    "data = reader.read_from_file(datafile)\n",
    "data = [x.rstrip() for x in data]\n",
    "data"
   ]
  },
  {
   "cell_type": "markdown",
   "metadata": {},
   "source": [
    "# Part 1\n",
    "\n",
    "### Overview\n",
    "\n",
    "We need to find all locations of \"antinodes\" and count them. Any pair of matching characters creates an antinode on opposite sides of each other with vector displacement equal to the displacement between the two matching characters as long as the position is within the grid.\n",
    "\n",
    "### Approach\n",
    "\n",
    "We will store those in a hashtable. We find all combinations of pairs of points without replacement. For each one, we'll compute the pairs and their vector displacement. Then we will find the potential antinode position by vector addition componentwise. If that position is in the grid we'll add another antinode.\n",
    "\n",
    "For instance. Suppose we have {'X': [(x1, y1), (x2, y2), (x3, y3)]}\n",
    "Then we know the displacement d12 = [x2 - x1, y2 - y1] = [dx, dy]\n",
    "Then the antinode projected opposite of (x2, y2) is (x2 + dx, y2 + dy) and the antinode opposite of (x1, y1) is (x1 - dx, y1 - dy).\n",
    "\n",
    "We repeat this process for d13 and d23.\n",
    "\n",
    "\n"
   ]
  },
  {
   "cell_type": "code",
   "execution_count": 17,
   "metadata": {},
   "outputs": [
    {
     "name": "stdout",
     "output_type": "stream",
     "text": [
      "{'w', 'h', 'C', 'I', 's', 'D', 'j', 'O', 'v', '3', 'u', '4', 'd', 'l', 'r', '.', '7', 'U', 'o', 'P', 'm', 'b', 'k', 'e', 'K', 'W', '0', '6', 'R', 'B', '5', 'L', 'F', '1', 'y', 'Y', '8', 'G', 'S', 't', 'c', '9', 'E', 'i', 'M', 'N', 'V', 'T', 'J', 'f', 'Q', 'Z', 'g', 'A', 'n', 'z', 'a', '2', 'q', 'H', 'p'}\n"
     ]
    }
   ],
   "source": [
    "possible_character = set()\n",
    "for string in data:\n",
    "    for char in string:\n",
    "        possible_character.add(char)\n",
    "\n",
    "print(possible_character)"
   ]
  },
  {
   "cell_type": "code",
   "execution_count": 19,
   "metadata": {},
   "outputs": [],
   "source": [
    "def create_antinodes(p1: Tuple[int], p2: Tuple[int]) -> Tuple[Tuple[int]]:\n",
    "    \"\"\"\n",
    "    Finds the position of a possible antinode\n",
    "\n",
    "    Args:\n",
    "        p1: The tuple of coordinates of first point to consider: (x1, y1)\n",
    "        p2: The tuple of coordinates of second point to consider: (x2, y2)\n",
    "\n",
    "    Returns:\n",
    "        The two potential antinode positions\n",
    "    \n",
    "    \"\"\"\n",
    "    #displacement \n",
    "    d = (p2[0] - p1[0], p2[1] - p1[1])\n",
    "    a1 = (p1[0] - d[0], p1[1] - d[1])\n",
    "    a2 = (p2[0] + d[0], p2[1] + d[1])\n",
    "\n",
    "    return a1, a2\n",
    "\n",
    "\n",
    "def OOB(position: Tuple[int], grid: List[str]) -> bool:\n",
    "    m = len(grid)\n",
    "    n = len(grid[0])\n",
    "    x = position[0]\n",
    "    y = position[1]\n",
    "\n",
    "    if x >= m or x < 0:\n",
    "        return True\n",
    "    elif y >= n or y < 0 :\n",
    "        return True\n",
    "    else:\n",
    "        return False\n",
    "\n",
    "\n",
    "def scan_grid(grid: List[str]) -> Dict[str, List[Tuple[int]]]:\n",
    "    d = defaultdict(list)\n",
    "    for i in range(len(grid)):\n",
    "        for j in range(len(grid[0])):\n",
    "            #The characters in the grid are either \".\" for empty space or not for an antenna location\n",
    "            if grid[i][j] != \".\":\n",
    "                d[grid[i][j]].append((i,j))\n",
    "    return d"
   ]
  },
  {
   "cell_type": "code",
   "execution_count": 25,
   "metadata": {},
   "outputs": [
    {
     "name": "stdout",
     "output_type": "stream",
     "text": [
      "Calling part1: Memory used 262144 kB; Execution Time: 0.000881291925907135 s\n",
      "357\n"
     ]
    }
   ],
   "source": [
    "@profiler.profile\n",
    "def part1(grid: List[str]) -> int:\n",
    "    #Scan grid to find all locations\n",
    "    antennae = scan_grid(grid)\n",
    "    antinode_locations = set()\n",
    "\n",
    "    for locations in antennae.values():\n",
    "        location_pairs = combinations(locations, 2)\n",
    "        for pair in location_pairs:\n",
    "            for antinode in create_antinodes(pair[0], pair[1]):\n",
    "                if not OOB(antinode, grid):\n",
    "                    antinode_locations.add(antinode)\n",
    "            \n",
    "    return len(antinode_locations)\n",
    "\n",
    "print(part1(data))"
   ]
  },
  {
   "cell_type": "markdown",
   "metadata": {},
   "source": [
    "# Part 2\n",
    "\n",
    "### Overview \n",
    "\n",
    "We must do the same but now antinodes occur anywhere on the line that connects the two antennae that is also within the grid. This includes the antennae themselves.\n",
    "\n",
    "\n",
    "### Approach\n",
    "\n",
    "We can use a similar approach but now we need to modify the create_antinodes function to extend the whole line. We will combine it with the out of bounds function. Now the function must find d and reduce it by the greatest common factor between d[0] and d[1], so that we can find the smallest distance to step over. Then we step across this until out of bounds in the positive parameterized direction and then do the same for the negative. "
   ]
  },
  {
   "cell_type": "code",
   "execution_count": 39,
   "metadata": {},
   "outputs": [],
   "source": [
    "from math import gcd\n",
    "def create_antinodes2(p1: Tuple[int], p2: Tuple[int], grid: List[str]) -> Set[Tuple[int]]:\n",
    "    \"\"\"\n",
    "    Finds all positions of a possible antinode\n",
    "\n",
    "    Args:\n",
    "        p1: The tuple of coordinates of first point to consider: (x1, y1)\n",
    "        p2: The tuple of coordinates of second point to consider: (x2, y2)\n",
    "\n",
    "    Returns:\n",
    "        The two potential antinode positions\n",
    "    \n",
    "    \"\"\"\n",
    "    #displacement \n",
    "    dx, dy = p2[0] - p1[0], p2[1] - p1[1]\n",
    "    factor = gcd(dx, dy)\n",
    "    dx /= factor\n",
    "    dy /= factor\n",
    "\n",
    "    antinodes = set()\n",
    "    \n",
    "    while not OOB(p1, grid):\n",
    "        antinodes.add(p1)\n",
    "        p1 = (p1[0] + dx, p1[1] + dy)\n",
    "\n",
    "    while not OOB(p2, grid):\n",
    "        antinodes.add(p2)\n",
    "        p2 = (p2[0] - dx, p2[1] - dy)\n",
    "    \n",
    "\n",
    "    return antinodes\n"
   ]
  },
  {
   "cell_type": "code",
   "execution_count": 43,
   "metadata": {},
   "outputs": [
    {
     "name": "stdout",
     "output_type": "stream",
     "text": [
      "Calling part2: Memory used 344064 kB; Execution Time: 0.25406112521886826 s\n"
     ]
    },
    {
     "data": {
      "text/plain": [
       "1266"
      ]
     },
     "execution_count": 43,
     "metadata": {},
     "output_type": "execute_result"
    }
   ],
   "source": [
    "@profiler.profile\n",
    "def part2(grid: List[str]) -> int:\n",
    "    antennae = scan_grid(grid)\n",
    "\n",
    "    result = set()\n",
    "    for locations in antennae.values():\n",
    "        location_pairs = combinations(locations, 2)\n",
    "        for pair in location_pairs:\n",
    "            result |= create_antinodes2(*pair, grid) #equivalent to result = result.union(create_antinodes2(*pair, grid)) or result = result | create_antinodes2(*pair, grid)\n",
    "    return len(result)\n",
    "\n",
    "part2(data)"
   ]
  },
  {
   "cell_type": "code",
   "execution_count": null,
   "metadata": {},
   "outputs": [],
   "source": []
  },
  {
   "cell_type": "code",
   "execution_count": null,
   "metadata": {},
   "outputs": [],
   "source": []
  }
 ],
 "metadata": {
  "kernelspec": {
   "display_name": "maplestory",
   "language": "python",
   "name": "python3"
  },
  "language_info": {
   "codemirror_mode": {
    "name": "ipython",
    "version": 3
   },
   "file_extension": ".py",
   "mimetype": "text/x-python",
   "name": "python",
   "nbconvert_exporter": "python",
   "pygments_lexer": "ipython3",
   "version": "3.11.5"
  }
 },
 "nbformat": 4,
 "nbformat_minor": 2
}
