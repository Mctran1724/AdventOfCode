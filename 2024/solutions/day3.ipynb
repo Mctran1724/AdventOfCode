{
 "cells": [
  {
   "cell_type": "code",
   "execution_count": 1,
   "metadata": {},
   "outputs": [],
   "source": [
    "from utils import profiler, reader\n",
    "import re\n",
    "from typing import List"
   ]
  },
  {
   "cell_type": "code",
   "execution_count": 2,
   "metadata": {},
   "outputs": [],
   "source": [
    "datafile = \"../data/day3_input.txt\"\n",
    "data = reader.read_from_file(datafile)"
   ]
  },
  {
   "cell_type": "markdown",
   "metadata": {},
   "source": [
    "# Part 1\n",
    "\n",
    "### Overview \n",
    "\n",
    "Find all instances of mul(xxx, yyy) in a string and compute that multipication then sum all results together\n",
    "\n",
    "### Approach\n",
    "\n",
    "Finding a pattern in a string looks like a job for regex! We will scroll through trying to find instances of \"mul\\((-?\\d+),(-?\\d+)\\)\".\n",
    "\n",
    "mul\\( will match to \"mul(\"\n",
    "\n",
    "then (-?\\d+) matches one or more positive or negative digits\n",
    "\n",
    ", matches to the \",\"\n"
   ]
  },
  {
   "cell_type": "code",
   "execution_count": 3,
   "metadata": {},
   "outputs": [
    {
     "name": "stdout",
     "output_type": "stream",
     "text": [
      "Calling part1: Memory used 0 kB; Execution Time: 0.000573290977627039 s\n"
     ]
    },
    {
     "data": {
      "text/plain": [
       "179834255"
      ]
     },
     "execution_count": 3,
     "metadata": {},
     "output_type": "execute_result"
    }
   ],
   "source": [
    "@profiler.profile\n",
    "def part1(data: List[str]) -> int: \n",
    "    def mul(x, y):\n",
    "        return int(x)*int(y)\n",
    "\n",
    "    total = 0\n",
    "    for line in data:\n",
    "        regexes = re.findall(\"mul\\((-?\\d+),(-?\\d+)\\)\", line)\n",
    "        for pair in regexes:\n",
    "            total += mul(*pair)\n",
    "\n",
    "    return total\n",
    "\n",
    "part1(data)"
   ]
  },
  {
   "cell_type": "markdown",
   "metadata": {},
   "source": [
    "# Part 2\n",
    "\n",
    "### Overview \n",
    "\n",
    "Find all instances of do() and don't() and mul(xxx,yyy) and compute that multipication then sum all results together. \n",
    "\n",
    "### Approach\n",
    "\n",
    "Finding a pattern in a string looks like a job for regex! We will scroll through trying to find instances of \"mul\\((-?\\d+),(-?\\d+)\\)\".\n",
    "\n",
    "mul\\( will match to \"mul(\"\n",
    "\n",
    "then (-?\\d+) matches one or more positive or negative digits\n",
    "\n",
    ", matches to the \",\"\n",
    "\n",
    "We'll also use a regex to extract the do() and don't().\n",
    "\n",
    "A flag will keep track of whether or not we should be multiplying!"
   ]
  },
  {
   "cell_type": "code",
   "execution_count": 4,
   "metadata": {},
   "outputs": [
    {
     "name": "stdout",
     "output_type": "stream",
     "text": [
      "Calling part2: Memory used 32768 kB; Execution Time: 0.002511665690690279 s\n"
     ]
    },
    {
     "data": {
      "text/plain": [
       "80570939"
      ]
     },
     "execution_count": 4,
     "metadata": {},
     "output_type": "execute_result"
    }
   ],
   "source": [
    "@profiler.profile\n",
    "def part2(data: List[str]) -> int:\n",
    "    result = 0\n",
    "    def mul(x, y):\n",
    "        return int(x)*int(y)\n",
    "\n",
    "    line = \"\".join(data) #the data is actually all one line!\n",
    "    multiply_flag = True\n",
    "    instructions = re.findall(r\"mul\\(\\d+,\\d+\\)|do\\(\\)|don\\'t\\(\\)\", line)\n",
    "    for x in instructions:\n",
    "        if x == \"don't()\":\n",
    "            multiply_flag = False\n",
    "        elif x == \"do()\":\n",
    "            multiply_flag = True\n",
    "        else:\n",
    "            if multiply_flag:\n",
    "                result += eval(x)\n",
    "    \n",
    "    return result\n",
    "\n",
    "part2(data)\n",
    "        \n"
   ]
  }
 ],
 "metadata": {
  "kernelspec": {
   "display_name": "maplestory",
   "language": "python",
   "name": "python3"
  },
  "language_info": {
   "codemirror_mode": {
    "name": "ipython",
    "version": 3
   },
   "file_extension": ".py",
   "mimetype": "text/x-python",
   "name": "python",
   "nbconvert_exporter": "python",
   "pygments_lexer": "ipython3",
   "version": "3.11.5"
  }
 },
 "nbformat": 4,
 "nbformat_minor": 2
}
