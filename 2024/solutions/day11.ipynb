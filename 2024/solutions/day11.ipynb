{
 "cells": [
  {
   "cell_type": "code",
   "execution_count": 2,
   "metadata": {},
   "outputs": [],
   "source": [
    "from utils import profiler, reader, day11_utils\n",
    "from typing import List, Dict, Tuple, Set\n",
    "import tqdm"
   ]
  },
  {
   "cell_type": "code",
   "execution_count": 3,
   "metadata": {},
   "outputs": [],
   "source": [
    "import math\n",
    "import itertools"
   ]
  },
  {
   "cell_type": "code",
   "execution_count": 11,
   "metadata": {},
   "outputs": [
    {
     "name": "stderr",
     "output_type": "stream",
     "text": [
      "Matplotlib is building the font cache; this may take a moment.\n"
     ]
    }
   ],
   "source": [
    "import matplotlib.pyplot as plt\n",
    "import numpy as np"
   ]
  },
  {
   "cell_type": "code",
   "execution_count": 4,
   "metadata": {},
   "outputs": [
    {
     "data": {
      "text/plain": [
       "[0, 4, 4979, 24, 4356119, 914, 85734, 698829]"
      ]
     },
     "execution_count": 4,
     "metadata": {},
     "output_type": "execute_result"
    }
   ],
   "source": [
    "datafile = \"../data/day11_input.txt\"\n",
    "data = reader.read_from_file(datafile)\n",
    "data = [x.rstrip() for x in data][0]\n",
    "data = list(map(int, data.split(\" \")))\n",
    "data"
   ]
  },
  {
   "cell_type": "markdown",
   "metadata": {},
   "source": [
    "# Part 1\n",
    "\n",
    "### Overview\n",
    "\n",
    "We have a set of rules to apply to each element of an array of numbers.\n",
    "\n",
    "\n",
    "### Approach\n",
    "\n",
    "We can implement this naively with conditionals.\n",
    "Note that we need to find the number of digits in a positive integer. \n",
    "We could do this by casting to a string and then checking length.\n",
    "This has linear time complexity in the length of the number.\n",
    "If the numbers become large, we can instead directly take the logarithm base 10, which would have constant time complexity.\n",
    "\n",
    "This goes for splitting too. If we use math instead of string conversion, we can avoid this!\n",
    "\n"
   ]
  },
  {
   "cell_type": "code",
   "execution_count": 5,
   "metadata": {},
   "outputs": [
    {
     "name": "stdout",
     "output_type": "stream",
     "text": [
      "[12, 34] [-12, 34]\n",
      "0 [1]\n",
      "1 [2024]\n",
      "10 [1, 0]\n",
      "99 [9, 9]\n",
      "999 [2021976]\n"
     ]
    }
   ],
   "source": [
    "def even_digits(x: int) -> bool:\n",
    "    # Returns true if the number has an even number of digits\n",
    "    if x < 0:\n",
    "        x *= -1\n",
    "    return math.floor(math.log10(x)) % 2 != 0\n",
    "\n",
    "def split_number(x: int) -> List[int]:\n",
    "    # Splits the number into two equal parts in constant time\n",
    "    negative_factor = 1\n",
    "    if x < 0:\n",
    "        x *= -1\n",
    "        negative_factor = -1\n",
    "    num_digits = math.floor(math.log10(x)) + 1\n",
    "    if num_digits % 2 == 1:\n",
    "        raise ValueError(\"Number must have an even number of digits\")\n",
    "    \n",
    "    power_of_10 = 10 ** (num_digits // 2)\n",
    "\n",
    "    return [x // power_of_10 * negative_factor, x % power_of_10]\n",
    "    \n",
    "print(split_number(1234), split_number(-1234))\n",
    "\n",
    "def rules(x: int) -> List[int]:\n",
    "    if x == 0:\n",
    "        return [1]\n",
    "    elif even_digits(x):\n",
    "        return split_number(x)\n",
    "    else:\n",
    "        return [x*2024]\n",
    "\n",
    "\n",
    "example = [0, 1, 10, 99, 999]\n",
    "\n",
    "for x in example:\n",
    "    print(x, rules(x))"
   ]
  },
  {
   "cell_type": "code",
   "execution_count": 19,
   "metadata": {},
   "outputs": [
    {
     "name": "stderr",
     "output_type": "stream",
     "text": [
      "100%|██████████| 25/25 [00:00<00:00, 122.23it/s]"
     ]
    },
    {
     "name": "stdout",
     "output_type": "stream",
     "text": [
      "Calling part1: Memory used 10190848 kB; Execution Time: 0.20797541699903377 s\n"
     ]
    },
    {
     "name": "stderr",
     "output_type": "stream",
     "text": [
      "\n"
     ]
    },
    {
     "data": {
      "text/plain": [
       "188902"
      ]
     },
     "execution_count": 19,
     "metadata": {},
     "output_type": "execute_result"
    }
   ],
   "source": [
    "\n",
    "@profiler.profile\n",
    "def part1(data: List[int], n_blinks = 25) -> int:\n",
    "    \n",
    "    def blink(lst: List[int]) -> List[int]:\n",
    "        result = []\n",
    "        for l in lst:\n",
    "            result.extend((rules(l)))\n",
    "        return result\n",
    "    \n",
    "    for _ in tqdm.tqdm(range(n_blinks)):\n",
    "        data = blink(data)\n",
    "        \n",
    "    return len(data)\n",
    "\n",
    "part1(data)\n",
    "\n"
   ]
  },
  {
   "cell_type": "markdown",
   "metadata": {},
   "source": [
    "# Part 2\n",
    "\n",
    "### Overview \n",
    "\n",
    "Now we just need to do the same thing but MORE TIMES. Instead of 25 iterations we need 75.\n",
    "\n",
    "### Approach\n",
    "\n",
    "We need to optimize the runtime of the program. Let's first see what's going on.\n",
    "We note that the growth is exponential, and the program takes a few seconds at the 30th iteration.\n",
    "There is no way we can continue with a simulation approach. Regardless of using numpy or multiprocessing to speed it up.\n",
    " \n",
    "It's important to note that we aren't looking for the actual stones at the end, just the total number of them.\n",
    "We need a workaround."
   ]
  },
  {
   "cell_type": "code",
   "execution_count": 9,
   "metadata": {},
   "outputs": [
    {
     "name": "stderr",
     "output_type": "stream",
     "text": [
      "100%|██████████| 30/30 [00:01<00:00, 15.07it/s] "
     ]
    },
    {
     "name": "stdout",
     "output_type": "stream",
     "text": [
      "Calling growth_test: Memory used 60276736 kB; Execution Time: 2.0011348339994584 s\n"
     ]
    },
    {
     "name": "stderr",
     "output_type": "stream",
     "text": [
      "\n"
     ]
    }
   ],
   "source": [
    "# First let's see how the result grows with increasing number of blinks\n",
    "# we modify the function a little bit to show all sizes\n",
    "\n",
    "@profiler.profile\n",
    "def growth_test(data: List[int], n_blinks = 25) -> int:\n",
    "    n_size = [len(data)]\n",
    "    def blink(lst: List[int]) -> List[int]:\n",
    "        results = [rules(x) for x in lst]\n",
    "        return list(itertools.chain.from_iterable(results))\n",
    "    \n",
    "    for _ in tqdm.tqdm(range(n_blinks)):\n",
    "        data = blink(data)\n",
    "        n_size.append(len(data))\n",
    "    \n",
    "    return n_size\n",
    "        \n",
    "    \n",
    "\n",
    "result = growth_test(data, 30)\n",
    "\n"
   ]
  },
  {
   "cell_type": "code",
   "execution_count": 16,
   "metadata": {},
   "outputs": [
    {
     "data": {
      "image/png": "[encoded data removed]",
      "text/plain": [
       "<Figure size 640x480 with 1 Axes>"
      ]
     },
     "metadata": {},
     "output_type": "display_data"
    }
   ],
   "source": [
    "plt.scatter(range(31), result, marker='x')\n",
    "plt.xlabel(\"Number of blinks\")\n",
    "plt.ylabel(\"Number of elements\")\n",
    "plt.show()"
   ]
  },
  {
   "cell_type": "markdown",
   "metadata": {},
   "source": [
    "It's clear that there is an exponential growth pattern.\n",
    "This happens because of the rule that SPLITS any number with even length!\n",
    "This doubles the length of part of the input, effectively repeated multiplication."
   ]
  }
 ],
 "metadata": {
  "kernelspec": {
   "display_name": ".venv",
   "language": "python",
   "name": "python3"
  },
  "language_info": {
   "codemirror_mode": {
    "name": "ipython",
    "version": 3
   },
   "file_extension": ".py",
   "mimetype": "text/x-python",
   "name": "python",
   "nbconvert_exporter": "python",
   "pygments_lexer": "ipython3",
   "version": "3.13.2"
  }
 },
 "nbformat": 4,
 "nbformat_minor": 2
}
