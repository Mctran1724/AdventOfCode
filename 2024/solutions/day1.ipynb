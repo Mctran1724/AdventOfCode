{
 "cells": [
  {
   "cell_type": "code",
   "execution_count": 16,
   "metadata": {},
   "outputs": [],
   "source": [
    "import pandas as pd\n",
    "import profiler\n",
    "from typing import List"
   ]
  },
  {
   "cell_type": "markdown",
   "metadata": {},
   "source": [
    "# Part 1\n",
    "\n",
    "### Overview\n",
    "\n",
    "The goal is to write a program that calculates the total distance between the two lists in the input file.\n",
    "\n",
    "The distance is defined as the sum of the absolute differences between the i_th lowest elements in each list.\n",
    "\n",
    "### Approach\n",
    "\n",
    "Sort the lists, take the differences elementwise, and then sum the absolute values of each difference for the final distance\n",
    "\n"
   ]
  },
  {
   "cell_type": "code",
   "execution_count": 7,
   "metadata": {},
   "outputs": [],
   "source": [
    "#Pull in the data\n",
    "datafile = \"../../2024/data/day1_input.txt\"\n",
    "with open(datafile, 'r+') as f:\n",
    "    lines = f.readlines()\n",
    "    data = [x.rstrip().split() for x in lines]\n",
    "data_df = pd.DataFrame(data)"
   ]
  },
  {
   "cell_type": "code",
   "execution_count": 15,
   "metadata": {},
   "outputs": [],
   "source": [
    "@profiler.profile\n",
    "def part1(data: List) -> int:\n",
    "    #Convert data to DataFrame\n",
    "    df = pd.DataFrame(data)\n",
    "    # Convert to int, sort the values, then subtract line by line\n",
    "    df = df.apply(lambda x: x.astype(int).sort_values().values)\n",
    "    return (df[0] - df[1]).abs().sum()"
   ]
  },
  {
   "cell_type": "code",
   "execution_count": null,
   "metadata": {},
   "outputs": [],
   "source": []
  },
  {
   "cell_type": "code",
   "execution_count": null,
   "metadata": {},
   "outputs": [],
   "source": []
  }
 ],
 "metadata": {
  "kernelspec": {
   "display_name": "maplestory",
   "language": "python",
   "name": "python3"
  },
  "language_info": {
   "codemirror_mode": {
    "name": "ipython",
    "version": 3
   },
   "file_extension": ".py",
   "mimetype": "text/x-python",
   "name": "python",
   "nbconvert_exporter": "python",
   "pygments_lexer": "ipython3",
   "version": "3.11.5"
  }
 },
 "nbformat": 4,
 "nbformat_minor": 2
}
