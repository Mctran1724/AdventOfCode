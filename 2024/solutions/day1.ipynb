{
 "cells": [
  {
   "cell_type": "code",
   "execution_count": 1,
   "metadata": {},
   "outputs": [
    {
     "name": "stdout",
     "output_type": "stream",
     "text": [
      "Intel MKL WARNING: Support of Intel(R) Streaming SIMD Extensions 4.2 (Intel(R) SSE4.2) enabled only processors has been deprecated. Intel oneAPI Math Kernel Library 2025.0 will require Intel(R) Advanced Vector Extensions (Intel(R) AVX) instructions.\n",
      "Intel MKL WARNING: Support of Intel(R) Streaming SIMD Extensions 4.2 (Intel(R) SSE4.2) enabled only processors has been deprecated. Intel oneAPI Math Kernel Library 2025.0 will require Intel(R) Advanced Vector Extensions (Intel(R) AVX) instructions.\n"
     ]
    }
   ],
   "source": [
    "import pandas as pd\n",
    "from utils import profiler\n",
    "from typing import List"
   ]
  },
  {
   "cell_type": "markdown",
   "metadata": {},
   "source": [
    "# Part 1\n",
    "\n",
    "### Overview\n",
    "\n",
    "The goal is to write a program that calculates the total distance between the two lists in the input file.\n",
    "\n",
    "The distance is defined as the sum of the absolute differences between the i_th lowest elements in each list.\n",
    "\n",
    "### Approach\n",
    "\n",
    "Sort the lists, take the differences elementwise, and then sum the absolute values of each difference for the final distance. Use pandas for vectorization to speeed up calculation on larger inputs"
   ]
  },
  {
   "cell_type": "code",
   "execution_count": 2,
   "metadata": {},
   "outputs": [],
   "source": [
    "#Pull in the data\n",
    "datafile = \"../../2024/data/day1_input.txt\"\n",
    "with open(datafile, 'r+') as f:\n",
    "    lines = f.readlines()\n",
    "    data = [x.rstrip().split() for x in lines]\n"
   ]
  },
  {
   "cell_type": "code",
   "execution_count": 3,
   "metadata": {},
   "outputs": [],
   "source": [
    "@profiler.profile\n",
    "def part1(data: List) -> int:\n",
    "    #Convert data to DataFrame\n",
    "    df = pd.DataFrame(data)\n",
    "    # Convert to int, sort the values, then subtract line by line\n",
    "    df = df.apply(lambda x: x.astype(int).sort_values().values)\n",
    "    return (df[0] - df[1]).abs().sum()"
   ]
  },
  {
   "cell_type": "code",
   "execution_count": 4,
   "metadata": {},
   "outputs": [
    {
     "name": "stdout",
     "output_type": "stream",
     "text": [
      "Calling part1: Memory used 483328 kB; Execution Time: 0.007078708149492741 s\n"
     ]
    },
    {
     "data": {
      "text/plain": [
       "765748"
      ]
     },
     "execution_count": 4,
     "metadata": {},
     "output_type": "execute_result"
    }
   ],
   "source": [
    "part1(data)"
   ]
  },
  {
   "cell_type": "markdown",
   "metadata": {},
   "source": [
    "# Part 2\n",
    "\n",
    "### Overview \n",
    "\n",
    "Calculate a total similarity score by adding up each number in the left list after multiplying it by the number of times that number appears in the right list.\n",
    "\n",
    "### Approach\n",
    "\n",
    "This question effectively asks us to build a counter for the common elements. This can be done with a counter, but I will use pandas for speed with vectorized operations once again."
   ]
  },
  {
   "cell_type": "code",
   "execution_count": 5,
   "metadata": {},
   "outputs": [],
   "source": [
    "@profiler.profile\n",
    "def part2(data: List) -> int:\n",
    "    #Convert data to DataFrame and convert values to int\n",
    "    df = pd.DataFrame(data).apply(lambda x: x.astype(int))\n",
    "    # we find the values from the left that are contained in the right\n",
    "    common_df = df.loc[df[1].isin(df[0]), 1]\n",
    "    # Find the count of each number in common_df. Others are irrelevant because they will multiply by a count of 0.\n",
    "    counts = common_df.value_counts()\n",
    "    # Finally multiply the number of occurences (counts.values) by the number itself and sum them for the total score\n",
    "    return sum(counts.values * counts.index)\n"
   ]
  },
  {
   "cell_type": "code",
   "execution_count": 6,
   "metadata": {},
   "outputs": [
    {
     "name": "stdout",
     "output_type": "stream",
     "text": [
      "Calling part2: Memory used 327680 kB; Execution Time: 0.004774666856974363 s\n"
     ]
    },
    {
     "data": {
      "text/plain": [
       "27732508"
      ]
     },
     "execution_count": 6,
     "metadata": {},
     "output_type": "execute_result"
    }
   ],
   "source": [
    "part2(data)"
   ]
  }
 ],
 "metadata": {
  "kernelspec": {
   "display_name": "maplestory",
   "language": "python",
   "name": "python3"
  },
  "language_info": {
   "codemirror_mode": {
    "name": "ipython",
    "version": 3
   },
   "file_extension": ".py",
   "mimetype": "text/x-python",
   "name": "python",
   "nbconvert_exporter": "python",
   "pygments_lexer": "ipython3",
   "version": "3.11.5"
  }
 },
 "nbformat": 4,
 "nbformat_minor": 2
}
