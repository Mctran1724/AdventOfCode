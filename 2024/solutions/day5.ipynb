{
 "cells": [
  {
   "cell_type": "code",
   "execution_count": 70,
   "metadata": {},
   "outputs": [],
   "source": [
    "from utils import profiler, reader\n",
    "from typing import List\n",
    "from collections import defaultdict"
   ]
  },
  {
   "cell_type": "code",
   "execution_count": 89,
   "metadata": {},
   "outputs": [],
   "source": [
    "datafile = \"../data/day5_input.txt\"\n",
    "data = reader.read_from_file(datafile)\n",
    "\n",
    "def process_data(data: List[List[str]]) -> tuple[List[List[int]]]:\n",
    "    rules = []\n",
    "    updates = []\n",
    "    for line in data:\n",
    "        if \"|\" in line:\n",
    "            rules.append(list(map(int, line.rstrip().split(\"|\"))))\n",
    "        elif line != '\\n':\n",
    "            updates.append(list(map(int, line.rstrip().split(\",\"))))\n",
    "    \n",
    "    return (rules, updates)\n",
    "\n",
    "rules, updates = process_data(data)"
   ]
  },
  {
   "cell_type": "markdown",
   "metadata": {},
   "source": [
    "# Part 1\n",
    "\n",
    "### Overview \n",
    "\n",
    "Given the dependencies listed in rules, check to make sure that each update follows the rules.\n",
    "\n",
    "### Approach\n",
    "\n",
    "Treat the page dependencies as a graph where the edges are dependencies and the vertices are the pages! The input is an edge list. Try to make a list of the dependencies that we can store in an adjacency list. Then the condition is that no dependencies appear AFTER the given item. This is the same as \"the rest of the list has NO elements in the list of dependencies\"."
   ]
  },
  {
   "cell_type": "code",
   "execution_count": 102,
   "metadata": {},
   "outputs": [
    {
     "name": "stdout",
     "output_type": "stream",
     "text": [
      "Calling part1: Memory used 225280 kB; Execution Time: 0.007961084134876728 s\n"
     ]
    },
    {
     "data": {
      "text/plain": [
       "5955"
      ]
     },
     "execution_count": 102,
     "metadata": {},
     "output_type": "execute_result"
    }
   ],
   "source": [
    "def graph(data: List[List]):\n",
    "    # This takes in an edge list and makes an adjacency list of the dependencies\n",
    "    d = defaultdict(list)\n",
    "    for dependency, item in data:\n",
    "        d[item].append(dependency)\n",
    "    return d\n",
    "\n",
    "def scan_update(rules, update) -> bool: #An update is invalid if for any given item, any of the items after are a dependency of that item.\n",
    "    for i, item in enumerate(update):\n",
    "        # If there are dependencies for this item\n",
    "        if item in rules:\n",
    "            # Check to ensure that no dependency comes after! \n",
    "            # If the dependencies and rest of the update share an item, the update is invalid\n",
    "            dependencies = rules[item]\n",
    "            for x in update[i:]:\n",
    "                if x in dependencies:\n",
    "                    return False\n",
    "    return True\n",
    "\n",
    "def middle_number(l: List) -> int:\n",
    "    return l[len(l)//2]\n",
    "\n",
    "@profiler.profile\n",
    "def part1(rules: List[List], updates: List[List]) -> int:\n",
    "    adj_list = graph(rules)\n",
    "    result = 0\n",
    "\n",
    "    for update in updates:\n",
    "        if scan_update(adj_list, update):\n",
    "            result += middle_number(update)\n",
    "\n",
    "    return result\n",
    "\n",
    "part1(rules, updates)"
   ]
  },
  {
   "cell_type": "markdown",
   "metadata": {},
   "source": [
    "# Part 2\n",
    "\n",
    "### Overview \n",
    "\n",
    "Find the incorrectly ordered updates and reorder them correctly. Then sum up the middle elements of all of these.\n",
    "\n",
    "### Approach\n",
    "\n",
    "First we extract the items in updates that do not adhere to the rules. Then ordering them correctly looks like a topological sorting! We can do this with a depth first search where we visit the nodes in prerequisite order using our adjacency list to guide us.\n"
   ]
  },
  {
   "cell_type": "code",
   "execution_count": 153,
   "metadata": {},
   "outputs": [
    {
     "name": "stdout",
     "output_type": "stream",
     "text": [
      "Calling part2: Memory used 73728 kB; Execution Time: 0.02088716672733426 s\n"
     ]
    },
    {
     "data": {
      "text/plain": [
       "4030"
      ]
     },
     "execution_count": 153,
     "metadata": {},
     "output_type": "execute_result"
    }
   ],
   "source": [
    "def topo_sort(graph: List[int], rules: dict):\n",
    "    result = []\n",
    "    seen = set()\n",
    "    def visit(n: int) -> None:\n",
    "        if n in seen or n not in graph:\n",
    "            return\n",
    "        dependencies = rules[n]\n",
    "        for node in dependencies:\n",
    "            visit(node)\n",
    "        seen.add(n)\n",
    "        result.append(n)\n",
    "\n",
    "    for node in graph:\n",
    "        visit(node)\n",
    "\n",
    "    return result\n",
    "\n",
    "@profiler.profile\n",
    "def part2(rules, updates) -> int:\n",
    "    adj_list = graph(rules)\n",
    "    result = 0\n",
    "    \n",
    "    for update in updates:\n",
    "        if not scan_update(adj_list, update):\n",
    "        \n",
    "            sorted_list = topo_sort(update, adj_list)\n",
    "            result += middle_number(sorted_list)\n",
    "\n",
    "\n",
    "    return(result)\n",
    "\n",
    "\n",
    "part2(rules, updates)\n"
   ]
  },
  {
   "cell_type": "code",
   "execution_count": null,
   "metadata": {},
   "outputs": [],
   "source": []
  },
  {
   "cell_type": "code",
   "execution_count": null,
   "metadata": {},
   "outputs": [],
   "source": []
  },
  {
   "cell_type": "code",
   "execution_count": null,
   "metadata": {},
   "outputs": [],
   "source": []
  },
  {
   "cell_type": "code",
   "execution_count": null,
   "metadata": {},
   "outputs": [],
   "source": []
  }
 ],
 "metadata": {
  "kernelspec": {
   "display_name": "maplestory",
   "language": "python",
   "name": "python3"
  },
  "language_info": {
   "codemirror_mode": {
    "name": "ipython",
    "version": 3
   },
   "file_extension": ".py",
   "mimetype": "text/x-python",
   "name": "python",
   "nbconvert_exporter": "python",
   "pygments_lexer": "ipython3",
   "version": "3.11.5"
  }
 },
 "nbformat": 4,
 "nbformat_minor": 2
}
